{
  "nbformat": 4,
  "nbformat_minor": 0,
  "metadata": {
    "colab": {
      "name": "AudioKerasTutorial.ipynb",
      "provenance": [],
      "authorship_tag": "ABX9TyMMjXl1K3XpeSwT3lephNHW",
      "include_colab_link": true
    },
    "kernelspec": {
      "name": "python3",
      "display_name": "Python 3"
    }
  },
  "cells": [
    {
      "cell_type": "markdown",
      "metadata": {
        "id": "view-in-github",
        "colab_type": "text"
      },
      "source": [
        "<a href=\"https://colab.research.google.com/github/evan-person/KerasTutorialMLcourse/blob/feature/AudioKerasTutorial.ipynb\" target=\"_parent\"><img src=\"https://colab.research.google.com/assets/colab-badge.svg\" alt=\"Open In Colab\"/></a>"
      ]
    },
    {
      "cell_type": "markdown",
      "metadata": {
        "id": "0FuVgU_JaMZy",
        "colab_type": "text"
      },
      "source": [
        "Keras Tutorial\n",
        "\n",
        "References:\n",
        "https://github.com/sarthak268/Audio_Classification_using_LSTM/blob/master/DL_Assignment_2.pdf\n",
        "\n",
        "\n",
        "Feature extraction:\n",
        "\n",
        "\n"
      ]
    },
    {
      "cell_type": "code",
      "metadata": {
        "id": "ssBASFsuZ0Mb",
        "colab_type": "code",
        "colab": {}
      },
      "source": [
        ""
      ],
      "execution_count": 0,
      "outputs": []
    },
    {
      "cell_type": "markdown",
      "metadata": {
        "id": "8NiHgWKQaLl2",
        "colab_type": "text"
      },
      "source": [
        ""
      ]
    }
  ]
}