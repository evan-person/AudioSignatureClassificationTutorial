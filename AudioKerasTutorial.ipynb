{
  "nbformat": 4,
  "nbformat_minor": 0,
  "metadata": {
    "colab": {
      "name": "AudioKerasTutorial.ipynb",
      "provenance": [],
      "authorship_tag": "ABX9TyMsp1kf9olcBnROiz3dNDqL",
      "include_colab_link": true
    },
    "kernelspec": {
      "name": "python3",
      "display_name": "Python 3"
    }
  },
  "cells": [
    {
      "cell_type": "markdown",
      "metadata": {
        "id": "view-in-github",
        "colab_type": "text"
      },
      "source": [
        "<a href=\"https://colab.research.google.com/github/evan-person/KerasTutorialMLcourse/blob/feature/AudioKerasTutorial.ipynb\" target=\"_parent\"><img src=\"https://colab.research.google.com/assets/colab-badge.svg\" alt=\"Open In Colab\"/></a>"
      ]
    },
    {
      "cell_type": "markdown",
      "metadata": {
        "id": "0FuVgU_JaMZy",
        "colab_type": "text"
      },
      "source": [
        "Keras Tutorial\n",
        "\n",
        "\n",
        "\n",
        "References used:\n",
        "\n",
        "https://github.com/sarthak268/Audio_Classification_using_LSTM/blob/master/DL_Assignment_2.pdf\n",
        "\n",
        "https://www.kaggle.com/mmoreaux/audio-cats-and-dogs\n",
        "\n",
        "https://elitedatascience.com/keras-tutorial-deep-learning-in-python\n",
        "\n",
        "\n",
        "Feature extraction:\n",
        "librosa documentation\n",
        "\n"
      ]
    },
    {
      "cell_type": "markdown",
      "metadata": {
        "id": "PJn-Ox-q7ui2",
        "colab_type": "text"
      },
      "source": [
        "Load libraries"
      ]
    },
    {
      "cell_type": "code",
      "metadata": {
        "id": "ssBASFsuZ0Mb",
        "colab_type": "code",
        "colab": {}
      },
      "source": [
        "import numpy as np\n",
        "import pandas as pd\n",
        "from google.colab import files\n",
        "from os import walk\n",
        "import os\n",
        "from os import listdir\n",
        "import librosa\n",
        "import matplotlib.pyplot as plt\n",
        "import librosa.display\n",
        "import sklearn\n",
        "from sklearn.model_selection import KFold\n",
        "import random"
      ],
      "execution_count": 0,
      "outputs": []
    },
    {
      "cell_type": "markdown",
      "metadata": {
        "id": "8NiHgWKQaLl2",
        "colab_type": "text"
      },
      "source": [
        "Part 1: Load data\n",
        "\n",
        "I found a dataset on Kaggle that includes noises of cats and dogs, which is included in my references. I had to delete 4 cat training files to make my zipped files fit on gitHub, but such is life. This dataset is naturally a nice binary classification problem. \n"
      ]
    },
    {
      "cell_type": "code",
      "metadata": {
        "id": "-wu7cxPk_Qhr",
        "colab_type": "code",
        "outputId": "483f3114-8778-484c-c081-48e4adfbaeb5",
        "colab": {
          "base_uri": "https://localhost:8080/",
          "height": 127
        }
      },
      "source": [
        "! git clone https://github.com/evan-person/KerasTutorialMLcourse.git\n",
        "\n"
      ],
      "execution_count": 2,
      "outputs": [
        {
          "output_type": "stream",
          "text": [
            "Cloning into 'KerasTutorialMLcourse'...\n",
            "remote: Enumerating objects: 16, done.\u001b[K\n",
            "remote: Counting objects: 100% (16/16), done.\u001b[K\n",
            "remote: Compressing objects: 100% (14/14), done.\u001b[K\n",
            "remote: Total 16 (delta 2), reused 0 (delta 0), pack-reused 0\u001b[K\n",
            "Unpacking objects: 100% (16/16), done.\n"
          ],
          "name": "stdout"
        }
      ]
    },
    {
      "cell_type": "code",
      "metadata": {
        "id": "CNERUBt07xKp",
        "colab_type": "code",
        "outputId": "233a907b-41e1-4270-bba0-39481ea81f27",
        "colab": {
          "base_uri": "https://localhost:8080/",
          "height": 146
        }
      },
      "source": [
        "\n",
        "! unzip -q ./KerasTutorialMLcourse/catTrain.zip -d  ./catTrain \n",
        "! unzip -q ./KerasTutorialMLcourse/dogTrain.zip -d ./dogTrain \n",
        "! unzip -q ./KerasTutorialMLcourse/catTest.zip -d ./catTest \n",
        "! unzip -q ./KerasTutorialMLcourse/dogTest.zip -d ./dogTest \n",
        "#! ls -R"
      ],
      "execution_count": 10,
      "outputs": [
        {
          "output_type": "stream",
          "text": [
            "replace ./catTrain/cat/cat_1.wav? [y]es, [n]o, [A]ll, [N]one, [r]ename: N\n",
            "Archive:  ./KerasTutorialMLcourse/dogTrain.zip\n",
            "replace ./dogTrain/dog/dog_barking_0.wav? [y]es, [n]o, [A]ll, [N]one, [r]ename: N\n",
            "Archive:  ./KerasTutorialMLcourse/catTest.zip\n",
            "replace ./catTest/cat/cat_110.wav? [y]es, [n]o, [A]ll, [N]one, [r]ename: N\n",
            "Archive:  ./KerasTutorialMLcourse/dogTest.zip\n",
            "replace ./dogTest/dog/dog_barking_112.wav? [y]es, [n]o, [A]ll, [N]one, [r]ename: N\n"
          ],
          "name": "stdout"
        }
      ]
    },
    {
      "cell_type": "code",
      "metadata": {
        "id": "FYHxps-NBiJD",
        "colab_type": "code",
        "outputId": "6965a08e-6fd3-49ff-f8a2-4301e032ea17",
        "colab": {
          "base_uri": "https://localhost:8080/",
          "height": 90
        }
      },
      "source": [
        "trainFilesD = listdir('./dogTrain/dog')\n",
        "trainFilesC = listdir('./catTrain/cat')\n",
        "testFilesD = listdir('./dogTest/dog')\n",
        "testFilesC = listdir('./catTest/cat')\n",
        "\n",
        "print('There are',len(trainFilesD),' dog training files')\n",
        "print('There are', len(trainFilesC),'cat training files')\n",
        "print('There are',len(testFilesD),' dog test files')\n",
        "print('There are', len(testFilesC),' cat test files')\n",
        "\n",
        "#put them all in one folder for test and one folder for train\n",
        "\n",
        "! mkdir train\n",
        "! mkdir test\n",
        "! cp -R ./dogTrain/dog/. ./train\n",
        "! cp -R ./catTrain/cat/. ./train\n",
        "! cp -R ./dogTest/dog/. ./test\n",
        "! cp -R ./catTest/cat/. ./test"
      ],
      "execution_count": 8,
      "outputs": [
        {
          "output_type": "stream",
          "text": [
            "There are 85  dog training files\n",
            "There are 120 cat training files\n",
            "There are 28  dog test files\n",
            "There are 39 cat test files\n"
          ],
          "name": "stdout"
        }
      ]
    },
    {
      "cell_type": "code",
      "metadata": {
        "id": "ObAWjkxgCqzq",
        "colab_type": "code",
        "colab": {}
      },
      "source": [
        "nTrain = len(trainFilesD) + len(trainFilesC)\n",
        "nTest = len(testFilesD) + len(testFilesC)\n",
        "trainFiles = os.listdir('./train')\n",
        "#One example found cropped all sound clips to 4 seconds, but I'm going to ignore that unless I have issues making stuff work\n",
        "#initially I will start with just a simple audio feature\n",
        "featureMatrix = np.zeros((nTrain,128,100,1))\n",
        "cat0dog1 = np.zeros((nTrain))\n",
        "counter = 0 #this is hacky and I feel gross for doing this\n",
        "for ii in trainFiles:\n",
        "  sound, sr = librosa.load(os.path.join('./train/',ii))\n",
        "  s = librosa.feature.melspectrogram(y=sound,sr=sr,n_fft = 2048, hop_length = 512, n_mels=128,fmax=8000)\n",
        "  s_db = librosa.power_to_db(s,ref=np.max)\n",
        "  s_db /= 80\n",
        "  if s.shape[1] <= 100:\n",
        "    featureMatrix[counter,0:s.shape[0],0:s.shape[1],0] = s_db\n",
        "  else:\n",
        "    featureMatrix[counter,:,:,0] = s_db[:,0:100] #why did I have to change this to 0:100 instead of 0:99\n",
        "  if ii[0] == 'd':\n",
        "    cat0dog1[counter] = 1 #i could compress this into one statement without the if, but i'm lazy right now\n",
        "\n",
        "  counter += 1"
      ],
      "execution_count": 0,
      "outputs": []
    },
    {
      "cell_type": "code",
      "metadata": {
        "id": "K9ae-8XyLu9m",
        "colab_type": "code",
        "outputId": "e79bf578-dcf5-4638-ac3f-914f357c02ab",
        "colab": {
          "base_uri": "https://localhost:8080/",
          "height": 109
        }
      },
      "source": [
        "sound, sr = librosa.load(os.path.join('./train/',trainFiles[1]))\n",
        "print(sound.shape)\n",
        "print(sr)\n",
        "smat = np.zeros((128,100))\n",
        "s = librosa.feature.melspectrogram(y=sound,sr=sr,n_fft = 2048, hop_length = 512, n_mels=128,fmax=8000)\n",
        "print(s.shape)\n",
        "if s.shape[1] <= 100:\n",
        "  smat[0:s.shape[0],0:s.shape[1]] = s\n",
        "else:\n",
        "  smat = s[:,0:99]\n",
        "mfccs = librosa.feature.mfcc(y=sound,sr=sr,S=None,n_mfcc=20)\n",
        "\n",
        "print(mfccs.shape)\n",
        "print(trainFiles[0])"
      ],
      "execution_count": 48,
      "outputs": [
        {
          "output_type": "stream",
          "text": [
            "(181075,)\n",
            "22050\n",
            "(128, 354)\n",
            "(20, 354)\n",
            "cat_11.wav\n"
          ],
          "name": "stdout"
        }
      ]
    },
    {
      "cell_type": "code",
      "metadata": {
        "id": "6kyAwsqZS-E0",
        "colab_type": "code",
        "colab": {
          "base_uri": "https://localhost:8080/",
          "height": 55
        },
        "outputId": "84ddc7c9-7c10-4b5b-aa1b-99c5594a7bec"
      },
      "source": [
        "print(trainFiles)"
      ],
      "execution_count": 28,
      "outputs": [
        {
          "output_type": "stream",
          "text": [
            "['cat_11.wav', 'dog_barking_20.wav', 'cat_72.wav', 'cat_101.wav', 'cat_9.wav', 'cat_22.wav', 'cat_154.wav', 'dog_barking_22.wav', 'cat_34.wav', 'cat_21.wav', 'cat_155.wav', 'cat_164.wav', 'dog_barking_26.wav', 'cat_74.wav', 'cat_96.wav', 'cat_119.wav', 'cat_63.wav', 'cat_114.wav', 'cat_149.wav', 'cat_124.wav', 'cat_4.wav', 'cat_108.wav', 'cat_159.wav', 'cat_87.wav', 'dog_barking_106.wav', 'cat_39.wav', 'cat_23.wav', 'dog_barking_36.wav', 'cat_109.wav', 'cat_102.wav', 'dog_barking_103.wav', 'dog_barking_27.wav', 'cat_142.wav', 'cat_81.wav', 'cat_116.wav', 'dog_barking_65.wav', 'dog_barking_97.wav', 'dog_barking_6.wav', 'cat_35.wav', 'dog_barking_67.wav', 'dog_barking_38.wav', 'cat_32.wav', 'dog_barking_17.wav', 'dog_barking_61.wav', 'cat_146.wav', 'cat_46.wav', 'dog_barking_51.wav', 'dog_barking_55.wav', 'dog_barking_16.wav', 'cat_44.wav', 'dog_barking_108.wav', 'cat_93.wav', 'dog_barking_68.wav', 'cat_127.wav', 'cat_47.wav', 'cat_33.wav', 'cat_106.wav', 'cat_91.wav', 'cat_136.wav', 'cat_16.wav', 'cat_8.wav', 'cat_52.wav', 'cat_73.wav', 'dog_barking_60.wav', 'cat_27.wav', 'cat_120.wav', 'dog_barking_41.wav', 'cat_121.wav', 'cat_167.wav', 'cat_122.wav', 'cat_162.wav', 'cat_51.wav', 'cat_49.wav', 'dog_barking_28.wav', 'cat_141.wav', 'cat_165.wav', 'dog_barking_57.wav', 'cat_150.wav', 'dog_barking_18.wav', 'dog_barking_42.wav', 'dog_barking_69.wav', 'cat_105.wav', 'cat_113.wav', 'cat_80.wav', 'cat_2.wav', 'cat_40.wav', 'dog_barking_21.wav', 'cat_160.wav', 'cat_128.wav', 'cat_64.wav', 'cat_100.wav', 'dog_barking_111.wav', 'dog_barking_13.wav', 'dog_barking_56.wav', 'dog_barking_71.wav', 'dog_barking_80.wav', 'dog_barking_2.wav', 'dog_barking_87.wav', 'cat_43.wav', 'cat_166.wav', 'dog_barking_0.wav', 'dog_barking_1.wav', 'dog_barking_105.wav', 'cat_107.wav', 'dog_barking_47.wav', 'cat_95.wav', 'dog_barking_81.wav', 'cat_151.wav', 'dog_barking_88.wav', 'cat_89.wav', 'dog_barking_110.wav', 'cat_71.wav', 'cat_94.wav', 'dog_barking_50.wav', 'dog_barking_29.wav', 'cat_97.wav', 'dog_barking_33.wav', 'dog_barking_100.wav', 'cat_139.wav', 'dog_barking_92.wav', 'dog_barking_107.wav', 'cat_103.wav', 'cat_92.wav', 'cat_41.wav', 'cat_6.wav', 'dog_barking_93.wav', 'cat_99.wav', 'cat_1.wav', 'cat_25.wav', 'cat_53.wav', 'cat_147.wav', 'cat_125.wav', 'dog_barking_39.wav', 'cat_12.wav', 'dog_barking_109.wav', 'cat_131.wav', 'cat_54.wav', 'dog_barking_30.wav', 'dog_barking_52.wav', 'dog_barking_75.wav', 'dog_barking_4.wav', 'dog_barking_10.wav', 'cat_161.wav', 'dog_barking_85.wav', 'cat_37.wav', 'dog_barking_31.wav', 'dog_barking_53.wav', 'cat_83.wav', 'cat_70.wav', 'cat_15.wav', 'cat_156.wav', 'cat_30.wav', 'cat_62.wav', 'dog_barking_5.wav', 'dog_barking_25.wav', 'dog_barking_40.wav', 'dog_barking_37.wav', 'cat_163.wav', 'cat_13.wav', 'cat_38.wav', 'dog_barking_23.wav', 'cat_7.wav', 'dog_barking_63.wav', 'dog_barking_11.wav', 'dog_barking_14.wav', 'cat_153.wav', 'cat_118.wav', 'dog_barking_101.wav', 'dog_barking_58.wav', 'cat_26.wav', 'cat_19.wav', 'dog_barking_98.wav', 'cat_123.wav', 'dog_barking_35.wav', 'cat_138.wav', 'dog_barking_83.wav', 'dog_barking_77.wav', 'cat_98.wav', 'dog_barking_70.wav', 'dog_barking_76.wav', 'dog_barking_104.wav', 'cat_65.wav', 'cat_18.wav', 'cat_77.wav', 'dog_barking_96.wav', 'cat_134.wav', 'cat_31.wav', 'dog_barking_94.wav', 'dog_barking_74.wav', 'dog_barking_86.wav', 'cat_68.wav', 'dog_barking_84.wav', 'dog_barking_72.wav', 'cat_5.wav', 'cat_10.wav', 'dog_barking_79.wav', 'dog_barking_32.wav', 'dog_barking_102.wav', 'cat_84.wav', 'cat_50.wav', 'dog_barking_95.wav', 'cat_140.wav', 'cat_48.wav', 'cat_157.wav', 'cat_117.wav']\n"
          ],
          "name": "stdout"
        }
      ]
    },
    {
      "cell_type": "code",
      "metadata": {
        "id": "4Mfn7yIcWcAo",
        "colab_type": "code",
        "colab": {
          "base_uri": "https://localhost:8080/",
          "height": 559
        },
        "outputId": "8337b3ed-aa2e-4de9-f419-5e5319ab29fc"
      },
      "source": [
        "s_db = librosa.power_to_db(smat,ref=np.max)\n",
        "\n",
        "librosa.display.specshow(s_db,x_axis='time')\n",
        "plt.show()\n",
        "\n",
        "\n",
        "librosa.display.specshow(mfccs,x_axis='time')"
      ],
      "execution_count": 47,
      "outputs": [
        {
          "output_type": "display_data",
          "data": {
            "image/png": "[encoded data removed]",
            "text/plain": [
              "<Figure size 432x288 with 1 Axes>"
            ]
          },
          "metadata": {
            "tags": []
          }
        },
        {
          "output_type": "execute_result",
          "data": {
            "text/plain": [
              "<matplotlib.axes._subplots.AxesSubplot at 0x7f14ecb08978>"
            ]
          },
          "metadata": {
            "tags": []
          },
          "execution_count": 47
        },
        {
          "output_type": "display_data",
          "data": {
            "image/png": "[encoded data removed]",
            "text/plain": [
              "<Figure size 432x288 with 1 Axes>"
            ]
          },
          "metadata": {
            "tags": []
          }
        }
      ]
    },
    {
      "cell_type": "code",
      "metadata": {
        "id": "J3-_zu6Fjnpe",
        "colab_type": "code",
        "colab": {
          "base_uri": "https://localhost:8080/",
          "height": 35
        },
        "outputId": "5d42c3d6-853b-44d4-8201-f3355443eae0"
      },
      "source": [
        "print(np.max(s_db+80))"
      ],
      "execution_count": 80,
      "outputs": [
        {
          "output_type": "stream",
          "text": [
            "80.0\n"
          ],
          "name": "stdout"
        }
      ]
    },
    {
      "cell_type": "code",
      "metadata": {
        "id": "hNSNF42dW7Ed",
        "colab_type": "code",
        "colab": {
          "base_uri": "https://localhost:8080/",
          "height": 54
        },
        "outputId": "f5fbd624-04f1-4cd4-bfc6-60db6a9629f8"
      },
      "source": [
        "#make some cross validation splits\n",
        "sampleList = list(range(nTrain))\n",
        "random.shuffle(sampleList)\n",
        "\n",
        "indexStep = round(nTrain/5)\n",
        "print(indexStep)\n",
        "indexList = np.arange(0,nTrain,indexStep)\n",
        "print(indexList)"
      ],
      "execution_count": 73,
      "outputs": [
        {
          "output_type": "stream",
          "text": [
            "41\n",
            "[  0  41  82 123 164]\n"
          ],
          "name": "stdout"
        }
      ]
    },
    {
      "cell_type": "markdown",
      "metadata": {
        "id": "HJrzGmR0a5do",
        "colab_type": "text"
      },
      "source": [
        "Step 2: \n",
        "\n",
        "Creating the Keras model"
      ]
    },
    {
      "cell_type": "code",
      "metadata": {
        "id": "XBt3aH0CbBbb",
        "colab_type": "code",
        "colab": {}
      },
      "source": [
        "#call the keras specific stuff here\n",
        "from tensorflow.keras.models import Sequential\n",
        "from tensorflow.keras.layers import Dense, Dropout, Activation, Flatten\n",
        "from tensorflow.keras.layers import Convolution2D, MaxPooling2D\n",
        "from keras.utils.vis_utils import plot_model\n",
        "\n"
      ],
      "execution_count": 0,
      "outputs": []
    },
    {
      "cell_type": "code",
      "metadata": {
        "id": "rO38ZCQIkw3W",
        "colab_type": "code",
        "colab": {
          "base_uri": "https://localhost:8080/",
          "height": 366
        },
        "outputId": "2720f382-cf70-46c2-9f81-b4f66288d472"
      },
      "source": [
        "#following elite data science tutorial for now\n",
        "\n",
        "model = Sequential()\n",
        "\n",
        "model.add(Convolution2D(32,3,3,activation='relu',input_shape=(128,100,1)))\n",
        "\n",
        "model.add(MaxPooling2D(pool_size=(2,2)))\n",
        "#model.add(Dropout(0.25))\n",
        "\n",
        "\n",
        "model.add(Flatten())\n",
        "model.add(Dense(32,activation='relu'))\n",
        "#model.add(Dropout(0.5))\n",
        "model.add(Dense(1,activation='softmax'))\n",
        "\n",
        "model.compile(loss='categorical_crossentropy', optimizer='adam', metrics=['accuracy'])\n",
        "\n",
        "print(model.summary())"
      ],
      "execution_count": 137,
      "outputs": [
        {
          "output_type": "stream",
          "text": [
            "Model: \"sequential_26\"\n",
            "_________________________________________________________________\n",
            "Layer (type)                 Output Shape              Param #   \n",
            "=================================================================\n",
            "conv2d_43 (Conv2D)           (None, 42, 33, 32)        320       \n",
            "_________________________________________________________________\n",
            "max_pooling2d_22 (MaxPooling (None, 21, 16, 32)        0         \n",
            "_________________________________________________________________\n",
            "flatten_19 (Flatten)         (None, 10752)             0         \n",
            "_________________________________________________________________\n",
            "dense_44 (Dense)             (None, 32)                344096    \n",
            "_________________________________________________________________\n",
            "dense_45 (Dense)             (None, 1)                 33        \n",
            "=================================================================\n",
            "Total params: 344,449\n",
            "Trainable params: 344,449\n",
            "Non-trainable params: 0\n",
            "_________________________________________________________________\n",
            "None\n"
          ],
          "name": "stdout"
        }
      ]
    },
    {
      "cell_type": "code",
      "metadata": {
        "id": "S3-DVsnJnGiT",
        "colab_type": "code",
        "colab": {
          "base_uri": "https://localhost:8080/",
          "height": 54
        },
        "outputId": "a7b30ed4-cb35-4d68-f6ee-72a03c95cf96"
      },
      "source": [
        "model.fit(featureMatrix,cat0dog1,batch_size = 10,nb_epoch = 10, verbose = 1)"
      ],
      "execution_count": 138,
      "outputs": [
        {
          "output_type": "stream",
          "text": [
            "21/21 [==============================] - 0s 12ms/step - loss: 0.0000e+00 - accuracy: 0.4146\n"
          ],
          "name": "stdout"
        },
        {
          "output_type": "execute_result",
          "data": {
            "text/plain": [
              "<tensorflow.python.keras.callbacks.History at 0x7f1469125e48>"
            ]
          },
          "metadata": {
            "tags": []
          },
          "execution_count": 138
        }
      ]
    },
    {
      "cell_type": "code",
      "metadata": {
        "id": "5N1yDXZinU23",
        "colab_type": "code",
        "colab": {
          "base_uri": "https://localhost:8080/",
          "height": 35
        },
        "outputId": "3d1d9242-9273-4391-8416-1b963b747b61"
      },
      "source": [
        "print(cat0dog1.shape)"
      ],
      "execution_count": 139,
      "outputs": [
        {
          "output_type": "stream",
          "text": [
            "(205,)\n"
          ],
          "name": "stdout"
        }
      ]
    },
    {
      "cell_type": "code",
      "metadata": {
        "id": "L4HxT4ShnchC",
        "colab_type": "code",
        "colab": {
          "base_uri": "https://localhost:8080/",
          "height": 35
        },
        "outputId": "b6c7f481-93e9-44be-eb61-e246bced623c"
      },
      "source": [
        "doubleColumnCatDog = np.array((cat0dog1,1-cat0dog1))\n",
        "print(doubleColumnCatDog.shape)"
      ],
      "execution_count": 143,
      "outputs": [
        {
          "output_type": "stream",
          "text": [
            "(2, 205)\n"
          ],
          "name": "stdout"
        }
      ]
    },
    {
      "cell_type": "code",
      "metadata": {
        "id": "-U5Wg-bzthwu",
        "colab_type": "code",
        "colab": {
          "base_uri": "https://localhost:8080/",
          "height": 439
        },
        "outputId": "c82a9cb7-5b76-4bfa-f9cc-1bb01745cd28"
      },
      "source": [
        "#following elite data science tutorial for now\n",
        "\n",
        "model = Sequential()\n",
        "\n",
        "model.add(Convolution2D(32,3,3,activation='relu',input_shape=(128,100,1)))\n",
        "\n",
        "model.add(MaxPooling2D(pool_size=(2,2)))\n",
        "model.add(Dropout(0.25))\n",
        "\n",
        "\n",
        "model.add(Flatten())\n",
        "model.add(Dense(32,activation='relu'))\n",
        "model.add(Dropout(0.5))\n",
        "model.add(Dense(2,activation='softmax'))\n",
        "\n",
        "model.compile(loss='categorical_crossentropy', optimizer='adam', metrics=['accuracy'])\n",
        "\n",
        "print(model.summary())\n"
      ],
      "execution_count": 147,
      "outputs": [
        {
          "output_type": "stream",
          "text": [
            "Model: \"sequential_28\"\n",
            "_________________________________________________________________\n",
            "Layer (type)                 Output Shape              Param #   \n",
            "=================================================================\n",
            "conv2d_45 (Conv2D)           (None, 42, 33, 32)        320       \n",
            "_________________________________________________________________\n",
            "max_pooling2d_24 (MaxPooling (None, 21, 16, 32)        0         \n",
            "_________________________________________________________________\n",
            "dropout_6 (Dropout)          (None, 21, 16, 32)        0         \n",
            "_________________________________________________________________\n",
            "flatten_21 (Flatten)         (None, 10752)             0         \n",
            "_________________________________________________________________\n",
            "dense_48 (Dense)             (None, 32)                344096    \n",
            "_________________________________________________________________\n",
            "dropout_7 (Dropout)          (None, 32)                0         \n",
            "_________________________________________________________________\n",
            "dense_49 (Dense)             (None, 2)                 66        \n",
            "=================================================================\n",
            "Total params: 344,482\n",
            "Trainable params: 344,482\n",
            "Non-trainable params: 0\n",
            "_________________________________________________________________\n",
            "None\n"
          ],
          "name": "stdout"
        }
      ]
    },
    {
      "cell_type": "code",
      "metadata": {
        "id": "B17GlAQ-txcU",
        "colab_type": "code",
        "colab": {
          "base_uri": "https://localhost:8080/",
          "height": 54
        },
        "outputId": "409fbc86-9a68-4a95-cbca-a96d731cbeb6"
      },
      "source": [
        "model.fit(featureMatrix,doubleColumnCatDog.T,batch_size = 10,nb_epoch = 10, verbose = 1)"
      ],
      "execution_count": 148,
      "outputs": [
        {
          "output_type": "stream",
          "text": [
            "21/21 [==============================] - 0s 15ms/step - loss: 0.7396 - accuracy: 0.5561\n"
          ],
          "name": "stdout"
        },
        {
          "output_type": "execute_result",
          "data": {
            "text/plain": [
              "<tensorflow.python.keras.callbacks.History at 0x7f1465d15160>"
            ]
          },
          "metadata": {
            "tags": []
          },
          "execution_count": 148
        }
      ]
    },
    {
      "cell_type": "code",
      "metadata": {
        "id": "gu_mL_Y8t1xT",
        "colab_type": "code",
        "colab": {}
      },
      "source": [
        "#score = model.evaluate(testFeature,testLabel,verbose=0)"
      ],
      "execution_count": 0,
      "outputs": []
    }
  ]
}